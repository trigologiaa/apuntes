{
 "cells": [
  {
   "cell_type": "markdown",
   "id": "aa246db8-092b-4608-879a-59bfef266220",
   "metadata": {},
   "source": [
    "# Análisis de Algoritmos"
   ]
  }
 ],
 "metadata": {
  "kernelspec": {
   "display_name": "Go",
   "language": "go",
   "name": "gophernotes"
  },
  "language_info": {
   "codemirror_mode": "",
   "file_extension": ".go",
   "mimetype": "",
   "name": "go",
   "nbconvert_exporter": "",
   "pygments_lexer": "",
   "version": "go1.23.2"
  }
 },
 "nbformat": 4,
 "nbformat_minor": 5
}
