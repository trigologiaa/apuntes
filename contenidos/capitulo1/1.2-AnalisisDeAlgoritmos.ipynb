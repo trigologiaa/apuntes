{
 "cells": [
  {
   "cell_type": "markdown",
   "id": "aa246db8-092b-4608-879a-59bfef266220",
   "metadata": {},
   "source": [
    "# Análisis de Algoritmos"
   ]
  },
  {
   "cell_type": "markdown",
   "id": "b2daccdc-114c-4393-a2ac-f2af762d90f3",
   "metadata": {},
   "source": [
    "Como ya mencionamos antes, podemos entender a un algoritmo como un método para resolver un problema dado en una computadora. Un algoritmo describe los pasos que se deben seguir para alcanzar el resultado buscado.\n",
    "\n",
    "Para un problema cualquiera, puede existir más de un algoritmo que lo resuelva. Un algoritmo puede consumir más o menos recursos que otro que resuelve el mismo problema, por lo tanto una de las principales variable de análisis generalmente es la _**eficiencia**_ en el uso de los recursos. "
   ]
  },
  {
   "cell_type": "markdown",
   "id": "ca95d2e6-f61b-475f-9618-63880d5c79db",
   "metadata": {},
   "source": [
    "```{margin}\n",
    "Los recursos que consumen un algoritmo son tiempo y espacio (memoria). El mismo problema se puede resolver, en la misma computadora, en minutos o en años, de acuerdo al algoritmo que se implemente.\n",
    "```"
   ]
  },
  {
   "cell_type": "markdown",
   "id": "65aa480a-f362-40c3-8aaf-6ddb6cf4ab17",
   "metadata": {},
   "source": [
    "Otro aspecto a tener en cuenta al analizar algoritmos es la _**simplicidad**_. Un algoritmo simple es más fácil de entender, adaptar y mantener, por eso a veces prima la simplicidad a la hora de elegir un algoritmo.\n",
    "\n",
    "La _**simplicidad**_ y la _**eficiencia**_ no son conceptos antagónicos. Es decir un algoritmo puede ser simple y eficiente a la vez. Estas métricas sirven principalmente para comparar algoritmos entre sí y así poder elegir el más adecuado para una situación concreta."
   ]
  },
  {
   "cell_type": "markdown",
   "id": "39493078-1510-4604-99c1-d31173f1ccf6",
   "metadata": {},
   "source": [
    "## Complejidad"
   ]
  },
  {
   "cell_type": "markdown",
   "id": "e56b6488-7f50-4e37-8ab4-0898c1d99e85",
   "metadata": {},
   "source": [
    "```{Admonition} Definición\n",
    "La _**complejidad**_ es una propiedad de un algoritmo que nos indica como escala la cantidad de recursos que se necesitan a medida que aumenta el volumen de los datos. \n",
    "```"
   ]
  },
  {
   "cell_type": "markdown",
   "id": "fafce614-91ed-4f35-9322-1bd19c0a2c7f",
   "metadata": {},
   "source": [
    "En esta definición de _**complejidad**_ entra en juego una variable más, la cantidad o el tamaño de los datos, por ejemplo si tenemos que ordenar pocos datos, y rara vez se agregan nuevos datos o se modifican los existentes, quizás prime la simplicidad del algoritmo a la hora de elegir alguno de los algoritmos de ordenamiento, pero si tenemos que ordenar millones de datos, donde además se agregan cientos o miles de datos y se modifican otros muy frecuentemente, es probable que nos interese analizar cuanto tiempo va a demorar y cuanta memoria o espacio en disco vamos a necesitar y más aún, cuánto más necesitaremos a medida que aumente el volumen de datos, es decir es probable que prime la _**eficiencia**_ a la hora de elegir.\n",
    "Informalmente hablando, cuanto mayor sea la _**complejidad**_ de un algoritmo, será menos _**eficiente**_ en el uso de los recuros."
   ]
  },
  {
   "cell_type": "markdown",
   "id": "a8aee2a9-c5fa-4cc4-bc34-270b9ad79b64",
   "metadata": {},
   "source": [
    "La _**complejidad**_ es independiente del hardware o la máquina donde se ejecuta el algoritmo. No debemos confundir _**complejidad**_ con _**rendimiento**_"
   ]
  },
  {
   "cell_type": "markdown",
   "id": "17216c45-020c-4dbe-bc18-cedc122a9c9a",
   "metadata": {},
   "source": [
    "```{margin}\n",
    "El _**rendimiento**_ es la capacidad de una computadora para realizar una determinada tarea en un tiempo dado\n",
    "```"
   ]
  },
  {
   "cell_type": "markdown",
   "id": "c3d3a04a-d254-43f5-9650-804f1649bf41",
   "metadata": {},
   "source": [
    "El _**rendimiento**_ si depende del hardware. Por ejemplo en la medida que aumenta la velocidad del procesador, se necesitará menos tiempo para completar una tarea dada. En cambio la _**complejidad**_ nos indica cuanto más tiempo o memoria va a requerir el algoritmo en función del tamaño de los datos."
   ]
  },
  {
   "cell_type": "markdown",
   "id": "190fbb0b-4560-4c9d-87b1-620aa0027717",
   "metadata": {},
   "source": [
    "```{Admonition} El mito de la computadora todopoderosa\n",
    "Muchas veces se cae en la tentación de pensar que a medida que aumente la capacidad de procesamiento de las computadoras se podrá completar cualquier tarea en un tiempo aceptable. Esta afirmación es una falacia. Existen problemas muy bien conocidos que resultan intratables para las computadoras, es decir, que no importa que tanto aumente la capacidad de procesamiento, una pequeño aumento en el tamaño de los datos implica que el tiempo de ejecución aumente desmesuradamente, hasta el punto de hacer inviable el cálculo.\n",
    "```"
   ]
  },
  {
   "cell_type": "markdown",
   "id": "188a1711-4fb9-46aa-8811-abd665ea4c3e",
   "metadata": {},
   "source": [
    "En esta primera aproximación al estudio del análisis de algoritmos, nos vamos a enfocar en la _**complejidad temporal**_. Como la _**complejidad temporal**_ es una métrica independiente del hardware donde se ejecuta el programa, normalmente se estima contando la cantidad de operaciones elementales que realiza el algoritmo bajo análisis para completar el cálculo, teniendo en cuenta que cada unidad elemental requiere una cantidad fija de tiempo, que por simplicidad se asume como una unidad de tiempo.\n",
    "\n",
    "Como la cantidad de operaciones elementales que debe realizar depende de los datos, se toma siempre el peor caso, para poder obtener una cota confiable. Por ejemplo si hay que buscar un elemento en un arreglo desdordenado, no queda otra que buscar el elemento en todas las posiciones del arreglo. En el peor caso se deberá recorrer todo el arreglo para encontrar el elemento en la última posición escrutada o poder concluir que el elemento no se encuentra, es probable que si ejecutamos nuestro algoritmo muchas veces, algunas veces lo encuentre antes de recorrer todo el arreglo, pero como buscamos una cota, **se toma siempre el peor caso.**"
   ]
  },
  {
   "cell_type": "markdown",
   "id": "6170c8ce-4c9c-4a7a-b817-2f781422ab78",
   "metadata": {},
   "source": [
    "## Cota Superior Asintótica (O grande)\n",
    "\n",
    "La cota superior asintótica, O grande o Big-O en inglés, es parte de la familia de notaciones asintóticas, también conocidas como notaciones de Bachmann-Landau. En ciencias de la computación, la O grande, permite clasificar a los algoritmos de acuerdo a  como aumenta la cantidad de recursos que necesita en la medida que aumenta el tamaño de la entrada, es decir nos permite clasificar algoritmos en el límite, cuando el tamaño de la entrada tiende a infinito. Sea $T(n)$ la función que indica cuanto tiempo va a tardar un algoritmo en función del tamaño de la entrada $n$, donde $n$ es un número natural, entonces:"
   ]
  },
  {
   "cell_type": "markdown",
   "id": "3147a8f9-7788-46a9-904e-b8074ed121b1",
   "metadata": {},
   "source": [
    "```{Admonition} Definición\n",
    "\n",
    "$$\n",
    "T(n) = O(f(n))\\; si\\; \\exists \\; c \\; , \\; n_0 \\; \\textrm{tal que} \\; T(n) \\leq c \\times f(n) \\; \\forall n > n_0\n",
    "$$\n",
    "\n",
    "$\\; \\textrm{donde c es una constante positiva y }n_0\\textrm{ un número natural}$\n",
    "\n",
    "```"
   ]
  },
  {
   "cell_type": "markdown",
   "id": "15f2294e-6bef-4082-a97e-81232eff00f4",
   "metadata": {},
   "source": [
    "Esto quiere decir que la tasa de crecimiento de $T(n)$ es menor o igual a la tasa de crecimiento de $f(n)$. Es decir la tasa de crecimiento de $T(n)$ está acotada por arriba por $f(n)\\; \\forall n > n_0$ ."
   ]
  },
  {
   "cell_type": "markdown",
   "id": "02cf9f6a-ba15-486f-9769-2ac5def9524a",
   "metadata": {},
   "source": [
    "Por ejemplo, si tenemos la función $T(n)=5 \\times n + 1$, se verifica que es de la familia de $O(n)$, es decir la tasa de crecimiento de $T(n)$ está acotada por $f(n)=n$, ya que:\n",
    "\n",
    "$\\exists \\; c = 5$ y $n_0 = 1$ \n",
    "\n",
    "tal que:\n",
    "\n",
    "$5.n \\ge 4 \\times n+1 \\;\\forall n\\ge 1$"
   ]
  },
  {
   "cell_type": "markdown",
   "id": "ef19fbb7-1d48-441e-82ed-b3091a90d553",
   "metadata": {},
   "source": [
    "```{figure} ../assets/images/funcion_acotada.svg\n",
    "---\n",
    "width: 800px\n",
    "name: funcion-acotada\n",
    "---\n",
    "Función Acotada: $T(n) \\subset O(n)$\n",
    "```"
   ]
  },
  {
   "cell_type": "markdown",
   "id": "0e6ec718-c714-4e30-bef9-624970187e52",
   "metadata": {},
   "source": [
    "En {ref}`tasa-crecimiento` se muestran algunas tasas de crecimiento de las funciones que comunmente se encuentran al calcular la O grande"
   ]
  },
  {
   "cell_type": "markdown",
   "id": "1e597a7d-f2d4-44c6-899a-8c9d16de4474",
   "metadata": {},
   "source": [
    "```{figure} ../assets/images/comparacion_funciones.svg\n",
    "---\n",
    "width: 800px\n",
    "name: tasa-crecimiento\n",
    "---\n",
    "Comparación de Tasas de Crecimiento\n",
    "```"
   ]
  },
  {
   "cell_type": "markdown",
   "id": "1f0eaa7a-5df6-43d4-9be9-157e0ac0d702",
   "metadata": {},
   "source": [
    "En la siguiente tabla se muestran algunas de las funciones más comunes y sus nombres"
   ]
  },
  {
   "cell_type": "markdown",
   "id": "4bc07946-f456-4cf9-9fb6-b200d1c292d7",
   "metadata": {},
   "source": [
    "::::{grid} 2\n",
    ":padding: 2\n",
    "\n",
    ":::{grid-item}\n",
    "Orden\n",
    ":::\n",
    ":::{grid-item}\n",
    "Nombre\n",
    ":::\n",
    ":::{grid-item}\n",
    "$O(1)$\n",
    ":::\n",
    ":::{grid-item}\n",
    "$constante$\n",
    ":::\n",
    ":::{grid-item}\n",
    "$O(log_2(n))$\n",
    ":::\n",
    ":::{grid-item}\n",
    "$logarítmica$\n",
    ":::\n",
    ":::{grid-item}\n",
    "$O(n)$\n",
    ":::\n",
    ":::{grid-item}\n",
    "$lineal$\n",
    ":::\n",
    ":::{grid-item}\n",
    "$O(n \\times log_2(n))$\n",
    ":::\n",
    ":::{grid-item}\n",
    "$casi \\; lineal$\n",
    ":::\n",
    ":::{grid-item}\n",
    "$O(n^2)$\n",
    ":::\n",
    ":::{grid-item}\n",
    "$cuadrática$\n",
    ":::\n",
    ":::{grid-item}\n",
    "$O(n^n)$\n",
    ":::\n",
    ":::{grid-item}\n",
    "$exponencial$\n",
    ":::\n",
    "::::"
   ]
  },
  {
   "cell_type": "markdown",
   "id": "2f6463f3-6850-486d-9917-f537b1fb2341",
   "metadata": {},
   "source": [
    "### Propieadades de la O grande"
   ]
  },
  {
   "cell_type": "markdown",
   "id": "1a500789-1dc1-49ae-92f8-201cd87f9e9e",
   "metadata": {},
   "source": [
    "```{prf:property}\n",
    ":label: Propiedad Transitiva\n",
    "Si $T(n)=O(f(n))$ y $f(n)=O(g(n))$\n",
    "\n",
    "entonces:\n",
    "\n",
    "$T(n) = O(g(n))$\n",
    "```"
   ]
  },
  {
   "cell_type": "markdown",
   "id": "23c4e9b5-f319-4938-8a31-07c696b615cd",
   "metadata": {},
   "source": [
    "```{prf:property}\n",
    ":label: Propiedad \n",
    "Si $T(n)=O(f(n))$ y $k\\ne0$\n",
    "\n",
    "entonces:\n",
    "\n",
    "$O(k.T(n))=k \\times O(T(n)) = O(f(n))$\n",
    "```"
   ]
  },
  {
   "cell_type": "markdown",
   "id": "62fe0550-fd4c-4dec-94db-477509231df7",
   "metadata": {},
   "source": [
    "```{prf:property}\n",
    ":label: Propiedad de la Suma\n",
    "Si $T_1(n)=O(f(n))$ y $T_2(n)=O(g(n))$\n",
    "\n",
    "entonces:\n",
    "\n",
    "$T_1(n)+T_2(n)=max(O(f(n), O(g(n))$\n",
    "```"
   ]
  },
  {
   "cell_type": "markdown",
   "id": "09fd3af0-d2bc-4cf5-82bd-4583fd042036",
   "metadata": {},
   "source": [
    "```{prf:property}\n",
    ":label: Propiedad del Producto\n",
    "Si $T_1(n)=O(f(n))$ y $T_2(n)=O(g(n))$\n",
    "\n",
    "entonces:\n",
    "\n",
    "$T_1(n) \\times T_2(n)=(O(f(n) \\times g(n))$\n",
    "```"
   ]
  },
  {
   "cell_type": "markdown",
   "id": "44938778-5a1d-4d69-8b14-3c35a165fc43",
   "metadata": {},
   "source": [
    "```{prf:property}\n",
    ":label: Propiedad de los Polinomios\n",
    "Si $T(n)=c_k \\times n^k+c_{k-1} \\times n^{k-1}+...+c_1 \\times n+c_0$ es decir $T(n)$ es un polinomio de grado $k$\n",
    "\n",
    "entonces:\n",
    "\n",
    "$T(n)=(O(n^k))$\n",
    "```"
   ]
  },
  {
   "cell_type": "markdown",
   "id": "d0585153-a8ad-4021-8fb8-84a1f42c2afa",
   "metadata": {},
   "source": [
    "````{prf:example}\n",
    ":label: Aplicación de las propiedades de la O grande\n",
    "\n",
    "$T_1(n)=5 \\times n^2+3 = O(n^2)$\n",
    "\n",
    "$T_2(n)=4 \\times n+1 = O(n)$\n",
    "\n",
    "$O(T_1(n)+T_2(n)) = max(O(n^2), O(n)) = O(n^2)$\n",
    "\n",
    "$O(T_1(n) \\times T_2(n))=O(n^2 \\times n)=O(n^3)$\n",
    "````"
   ]
  },
  {
   "cell_type": "markdown",
   "id": "1ba411b5-564e-427c-b941-a9c2817a3791",
   "metadata": {},
   "source": [
    "## Cálculo de la O grande\n",
    "Como ya se mencionó, para poder calcular el orden de un algoritmo se necesita contar cuantas operaciones elementales realiza."
   ]
  },
  {
   "cell_type": "markdown",
   "id": "b6d50779-1733-4512-ab27-1307978457c0",
   "metadata": {},
   "source": [
    "```{margin}\n",
    "Un valor simple, es un valor que se puede representar en un registro de la computadora y por lo tanto se puede leer y escribir en una única operación, por ejemplo un número entero de una longitud finita, un número en punto flotante, un bit, etc. No son valores simples los enteros de longitud indefinida o valores compuestos, por ejemplo un objeto compuestos por otros otros objetos.\n",
    "```"
   ]
  },
  {
   "cell_type": "markdown",
   "id": "02493797-f0a2-4735-999b-daff9e6e8d86",
   "metadata": {},
   "source": [
    "### Operaciones elementales (OE)\n",
    "Las operaciones elementales son lo que tienen un costo de 1 es decir cuyo tiempo de ejecución es 1 (una unidad genérica de tiempo).\n",
    "\n",
    "Las siguientes son OE:\n",
    "\n",
    "- Asignación o consulta de una variable simple.\n",
    "- Operaciones aritméticas elementales de valores simples(suma, resta, multiplicación, división y resto).\n",
    "- Comparaciones (mayor, mayor igual, igual, distinto, menor y menor igual)\n",
    "- Operaciones lógicas (and, or y not)\n",
    "- Acceso indexado a un elemento simple de un arreglo\n",
    "- Desreferenciar un puntero\n"
   ]
  },
  {
   "cell_type": "markdown",
   "id": "31195bda-65db-4b90-8e59-40a2a87b4aa4",
   "metadata": {},
   "source": [
    "### Operaciones complejas\n",
    "\n",
    "Por operaciones complejas entendemos a los condicionales, los ciclos y la ejecución de funciones. Estas operaciones en general pueden anidar otras operaciones."
   ]
  },
  {
   "cell_type": "markdown",
   "id": "c755ac61-3e92-4d75-9bfd-5d35ac6b349c",
   "metadata": {},
   "source": [
    "````{card} Condicionales\n",
    "\n",
    "$if$ $<C>$ $then$ $<S_1>$ $else$ $<S_2>$\n",
    "\n",
    "$T(n)=T(C)+max(T(S_1), T(S_2))$\n",
    "+++\n",
    "El tiempo de ejecución de un condicional se calcula como el tiempo para evaluar la condición $C$ más el máximo entre el cuerpo del $then$ y el $else$, considerando el peor caso de ejecución.\n",
    "````"
   ]
  },
  {
   "cell_type": "markdown",
   "id": "d2aa7ce6-b60b-4a67-80ec-e5043a38fe81",
   "metadata": {},
   "source": [
    "````{card} Ciclos\n",
    "\n",
    "$for <C> \\{\\; <S>\\; \\}$\n",
    "\n",
    "$T(n)=T(C)+(iteraciones)(T(C)+T(S))$\n",
    "+++\n",
    "El tiempo de ejecución de un ciclo se calcula como el tiempo de evaluar la condición por primera vez, para ver si se ejecuta el ciclo, mas la cantidad de iteraciones multiplicado por la suma de evaluar nuevamente la condición en cada iteración más el tiempo de todas las sentencias del cuerpo del ciclo.\n",
    "````"
   ]
  },
  {
   "cell_type": "markdown",
   "id": "9c2f6192-adf1-4742-87ef-d044ebcfbac7",
   "metadata": {},
   "source": [
    "````{card} Ejecución de Funciones\n",
    "\n",
    "$F(P_1, P_2, P_3,...P_n)\\{\\; <S>\\; \\}$\n",
    "\n",
    "$T(n)=1+T(P_1)+T(P_2)+T(P_3)+...+T(P_n)+T(S)$\n",
    "+++\n",
    "El tiempo de ejecución de una función se calcula como 1 (operación elemental de llamar a la función) más el tiempo de evaluar cada uno de los parámetros, más el tiempo de ejecutar todas las instrucciones en el cuerpo de la función.\n",
    "````"
   ]
  },
  {
   "cell_type": "markdown",
   "id": "acf22239-0342-4825-89c2-aeb514a89efe",
   "metadata": {},
   "source": [
    "### Ejemplos de cálculo"
   ]
  },
  {
   "cell_type": "markdown",
   "id": "4628365f-7ddf-4153-beaa-efd7e20af403",
   "metadata": {},
   "source": [
    "`````{prf:example}\n",
    ":label: Ejemplo del cálculo de O en la búsqueda lineal\n",
    "\n",
    "Búsqueda Lineal: \n",
    "\n",
    "> Dado un arreglo de elementos (por simplicidad solo números enteros) y un elemento a buscar, se debe recorrer todo el arreglo desde la primera posición hasta la última, hasta encontrar el elemento buscado o determinar que no se encuentra. Si el elemento se ecuentra en el arreglo, se devuelve la posición del elemento o -1 en caso contrario\n",
    "Para calcular el tiempo de ejecución de un algoritmo, conviene empezar por las operaciones elementales que se encuentran más anidadas. En este ejemplo la línea 4 dentro del condicional es $O(1)$. \n",
    "\n",
    "````{prf:algorithm} Búsqueda Lineal\n",
    ":label: búsqueda lineal\n",
    "\n",
    "**Entrada** $A[int]$: Arreglo de enteros de longitud $n$. \n",
    "            $elemento$: número entero a buscar.\n",
    "\n",
    "**Salida** La posición del elemento buscado dentro del arreglo o -1 si no se encuentra\n",
    "\n",
    "```{code-block}\n",
    ":linenos:\n",
    "pos = 0\n",
    "Mientras pos < n:\n",
    "    Si A[pos] == elemento:\n",
    "        Retornar pos\n",
    "    pos = pos+1\n",
    "Retornar -1\n",
    "```\n",
    "````\n",
    "\n",
    "Evaluar la condición pos < n también es $O(1)$ ya que se trata de accesos a valores y una comparación, por lo tanto:\n",
    "\n",
    "$T(condicional) = O(1)$\n",
    "\n",
    "Entonces dentro del ciclo _mientras_ tenemos un condicional de $O(1)$ y la instrucción de la línea 5 que son operaciones simples y por lo tanto es $O(1)$. Podemos concluir que todo el cuerpo del ciclo es $O(1)$. \n",
    "\n",
    "$T(ciclo) = O(1) + n \\times O(1)=O(n)$\n",
    "\n",
    "ya que evaluar la condición del ciclo, pos < n, también es $O(1)$\n",
    "\n",
    "Las líneas 1 y 6 también son $O(1)$.\n",
    "\n",
    "$T(n) = O(1) + O(n) + O(1) = O(n)$\n",
    "`````"
   ]
  },
  {
   "cell_type": "markdown",
   "id": "6fa0c37c-6f3f-4f55-a071-463922bcbe36",
   "metadata": {},
   "source": [
    "`````{prf:example}\n",
    ":label: Ejemplo del cálculo de O en la búsqueda binaria\n",
    "\n",
    "Búsqueda Binaria: \n",
    "\n",
    "> Dado un arreglo de elementos (por simplicidad solo números enteros) que están **ordenados** y un elemento a buscar, se compara el elemento buscado con el elemento que se encuentra el medio del arreglo. Si el elemento del medio del arreglo es menor que elemento buscado, se descarta la primera mitad del arreglo, en cambio si el elemento del medio es mayor que el elemento buscado, se descarta la mitad superior del arreglo. Si no es menor ni mayor, entonces es igual y encontramos el elemento\n",
    "La operación se repite hasta que se encuentra el elemento o ya no se puede seguir partiendo al medio y por lo tanto no se encuentra.\n",
    "\n",
    "````{prf:algorithm} Búsqueda Binaria\n",
    ":label: búsqueda binaria\n",
    "\n",
    "**Entrada** $A[int]$: Arreglo ordenado de enteros de longitud $n$. \n",
    "            $elemento$: número entero a buscar.\n",
    "\n",
    "**Salida** La posición del elemento buscado dentro del arreglo o -1 si no se encuentra\n",
    "\n",
    "```{code-block}\n",
    ":linenos:\n",
    "L = 0 # primera posición del arreglo\n",
    "R = n-1 # última posición del arreglo\n",
    "Mientras L <= R:\n",
    "    M = (L + R) / 2 # índice del medio del arreglo\n",
    "    Si A[M] < elemento: # el elemento buscado no puede estar en la primera mitad del arreglo\n",
    "        L = M + 1\n",
    "        continuar # reinicia el ciclo mientras\n",
    "    Si A[M] > elemento: # el elemento buscado no puede estar en la mitad superior del arreglo\n",
    "        R = M - 1\n",
    "        continuar # reinicia el ciclo mientras\n",
    "    Retornar m # se encontró el elemento buscado\n",
    "Retornar -1 # no se encontró el elemento\n",
    "```\n",
    "````\n",
    "Para analizar la búsqueda binaria, la primera observación que podemos realizar es que los condicionales son $O(1)$. Siguiendo el mismo razonamiento, todas las instrucciones que se realizan afuera del ciclo Mientras también son OE. Por lo tanto podemos plantear la siguiente ecuación de recurrencia:\n",
    "\n",
    "$T(n)=T(\\frac{n}{2})+c$\n",
    "\n",
    "Donde $T(\\frac{n}{2})$ representa que en cada vuelta del ciclo mientras se descarta la mitad del arreglo. La constante $c$ representa todas las operaciones $O(1)$ que se realizan en cada vuelta del ciclo. Para resolverla podemos suponer que n es una potencia de 2. Es decir:\n",
    "\n",
    "$n=2^k$\n",
    "\n",
    "Reemplazando obtenemos:\n",
    "\n",
    "1- $T(n)=T(\\frac{2^k}{2}+c = T(2^{k-1})+c$. Primera vuelta del ciclo\n",
    "\n",
    "2- $T(n)=T(2^{k-2})+2 \\times c$. Segunda vuelta del ciclo\n",
    "\n",
    "...\n",
    "\n",
    "i- $T(n)=T(2^{k-i})+i \\times c$. Vuelta i del ciclo\n",
    "\n",
    "para i = k\n",
    "\n",
    "k- $T(n)=T(0)+k \\times c$. Vuelta k del ciclo\n",
    "\n",
    "$T(0)$ es cuanto cuesta si el arreglo tiene tamaño $0$, es dedir $L>R$, y por lo tanto solo devuelve el $-1$ de la línea 12. Entonces $T(0)=O(1)$\n",
    "\n",
    "podemos despejar $k$ de la ecuación $n=2^k$ y nos queda que $k=log_2(n)$. Finalmente queda:\n",
    "\n",
    "$T(n)=O(1) + c \\times log_2(n)$\n",
    "\n",
    "$T(n)=O(log_2(n))$\n",
    "\n",
    "Es decir al tener el arreglo ordenado, la búsqueda binaria necesita realizar mucho menos operaciones que la búsqueda lineal para encontrar el valor buscado o determinar que no existe. La clave está en descartar la mitad del arreglo en cada vuelta del ciclo Mientras.\n",
    "`````"
   ]
  },
  {
   "cell_type": "markdown",
   "id": "67581dc5-312e-4499-a421-670e8d6617d0",
   "metadata": {},
   "source": []
  }
 ],
 "metadata": {
  "kernelspec": {
   "display_name": "Go",
   "language": "go",
   "name": "gophernotes"
  },
  "language_info": {
   "codemirror_mode": "",
   "file_extension": ".go",
   "mimetype": "",
   "name": "go",
   "nbconvert_exporter": "",
   "pygments_lexer": "",
   "version": "go1.23.2"
  }
 },
 "nbformat": 4,
 "nbformat_minor": 5
}
