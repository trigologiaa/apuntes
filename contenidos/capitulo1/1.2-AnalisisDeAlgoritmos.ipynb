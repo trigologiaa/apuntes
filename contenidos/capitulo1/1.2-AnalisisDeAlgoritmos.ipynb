{
 "cells": [
  {
   "cell_type": "markdown",
   "id": "aa246db8-092b-4608-879a-59bfef266220",
   "metadata": {},
   "source": [
    "# Análisis de Algoritmos"
   ]
  },
  {
   "cell_type": "markdown",
   "id": "b2daccdc-114c-4393-a2ac-f2af762d90f3",
   "metadata": {},
   "source": [
    "Como ya mencionamos antes, podemos entender a un algoritmo como un método para resolver un problema dado en una computadora. Este algoritmo describe los pasos que se deben seguir para alcanzar el resultado buscado.\n",
    "\n",
    "Para un problema cualquiera, puede existir más de un algoritmo que lo resuelva. Un algoritmo puede consumir más o menos recursos que otro que resuelve el mismo problema, por lo tanto una de las principales variable de análisis generalmente es la _**eficiencia**_ en el uso de los recursos. "
   ]
  },
  {
   "cell_type": "markdown",
   "id": "ca95d2e6-f61b-475f-9618-63880d5c79db",
   "metadata": {},
   "source": [
    "```{margin}\n",
    "Los recursos que consumen un algoritmo son tiempo y espacio (memoria). El mismo problema se puede resolver, en la misma computadora, en minutos o en años, de acuerdo al algoritmo que se implemente.\n",
    "```"
   ]
  },
  {
   "cell_type": "markdown",
   "id": "65aa480a-f362-40c3-8aaf-6ddb6cf4ab17",
   "metadata": {},
   "source": [
    "Otro aspecto a tener en cuenta al analizar algoritmos es la _**simplicidad**_. Un algoritmo simple es más fácil de entender, adaptar y mantener, por eso a veces prima la simplicidad a la hora de elegir un algoritmo.\n",
    "\n",
    "La _**simplicidad**_ y la _**eficiencia**_ no son conceptos antagónicos. Es decir un algoritmo puede ser simple y eficiente a la vez. Estas métricas sirven principalmente para comparar algoritmos entre sí y así poder elegir el más adecuado para una situación concreta"
   ]
  },
  {
   "cell_type": "markdown",
   "id": "39493078-1510-4604-99c1-d31173f1ccf6",
   "metadata": {},
   "source": [
    "## Complejidad"
   ]
  },
  {
   "cell_type": "markdown",
   "id": "e56b6488-7f50-4e37-8ab4-0898c1d99e85",
   "metadata": {},
   "source": [
    "```{Admonition} Definición\n",
    "La _**complejidad**_ es una propiedad de un algoritmo que nos indica como escala la cantidad de recursos que se necesitan a medida que aumenta el volumen de los datos. \n",
    "```"
   ]
  },
  {
   "cell_type": "markdown",
   "id": "fafce614-91ed-4f35-9322-1bd19c0a2c7f",
   "metadata": {},
   "source": [
    "En esta definición de _**complejidad**_ entra en juego una variable más, la cantidad o el tamaño de los datos, por ejemplo si tenemos que ordenar pocos datos, y rara vez se agregan nuevos datos o se modifican los existentes, quizás prime la simplicidad del algoritmo a la hora de elegir alguno de los algoritmos de ordenamiento, pero si tenemos que ordenar millones de datos, donde además se agregan cientos o miles de datos y se modifican otros, muy frecuentemente, es probable que nos interese analizar cuanto tiempo va a demorar y cuanta memoria o espacio en disco vamos a necesitar y más aún, cuánto más necesitaremos a medida que aumente el volumen de datos, es decir es probable que prime la _**eficiencia**_ a la hora de elegir.\n",
    "Informalmente hablando, cuanto mayor sea la _**complejidad**_ de un algoritmo, será menos _**eficiente**_ en el uso de los recuros."
   ]
  },
  {
   "cell_type": "markdown",
   "id": "a8aee2a9-c5fa-4cc4-bc34-270b9ad79b64",
   "metadata": {},
   "source": [
    "La _**complejidad**_ es independiente del hardware o la máquina donde se ejecuta el algoritmo. No debemos confundir _**complejidad**_ con _**rendimiento**_"
   ]
  },
  {
   "cell_type": "markdown",
   "id": "17216c45-020c-4dbe-bc18-cedc122a9c9a",
   "metadata": {},
   "source": [
    "```{margin}\n",
    "El _**rendimiento**_ es la capacidad de una computadora para realizar una determinada tarea en un tiempo dado\n",
    "```"
   ]
  },
  {
   "cell_type": "markdown",
   "id": "c3d3a04a-d254-43f5-9650-804f1649bf41",
   "metadata": {},
   "source": [
    "El _**rendimiento**_ si depende del hardware. Por ejemplo en la medida que aumenta la velocidad del procesador, se necesitará menos tiempo para completar una tarea dada. En cambio la _**complejidad**_ nos indica cuanto más tiempo o memoria va a requerir el algoritmo en función del tamaño de los datos."
   ]
  },
  {
   "cell_type": "markdown",
   "id": "190fbb0b-4560-4c9d-87b1-620aa0027717",
   "metadata": {},
   "source": [
    "```{Admonition} El mito de la computadora todopoderosa\n",
    "Muchas veces se cae en la tentación de pensar que a medida que aumente la capacidad de procesamiento de las computadoras se podrá completar cualquier tarea en un tiempo aceptable. Esta afirmación es una falacia. Existen problemas muy bien conocidos que resultan intratables para las computadoras, es decir, que no importa que tanto aumente la capacidad de procesamiento, una pequeño aumento en el tamaño de los datos implica que el tiempo de ejecución aumente desmesuradamente, hasta el punto de hacer inviable el cálculo.\n",
    "```"
   ]
  },
  {
   "cell_type": "markdown",
   "id": "188a1711-4fb9-46aa-8811-abd665ea4c3e",
   "metadata": {},
   "source": [
    "En esta primera aproximación al estudio del análisis de algoritmos, nos vamos a enfocar en la _**complejidad temporal**_. Como la _**complejidad temporal**_ es una métrica independiente del hardware donde se ejecuta el programa, normalmente se estima contando la cantidad de operaciones elementales que se realizan para completar el cálculo, teniendo en cuenta que cada unidad elemental requiere una cantidad fija de tiempo, que por simplicidad se asume como una unidad de tiempo.\n",
    "\n",
    "Como la cantidad de operaciones elementales que debe realizar un algoritmo para completar una tarea depende de los datos, se toma siempre el peor caso, para poder obtener una cota confiable. Por ejemplo si hay que buscar un elemento en un arreglo desdordenado, no queda otra que buscar el elemento en todas las posiciones del arreglo. En el peor caso se deberá recorrer todo el arreglo para encontrar el elemento en la última posición escrutada o poder concluir que el elemento no se encuentra."
   ]
  },
  {
   "cell_type": "markdown",
   "id": "6170c8ce-4c9c-4a7a-b817-2f781422ab78",
   "metadata": {},
   "source": [
    "## Cota Superior Asintótica (O grande)\n",
    "\n",
    "Una cota superior asintótica es una función que nos va a permitir acotar el tiempo de ejecución de un algoritmo. Si T(n) es la función que indica cuanto tiempo va a tardar un algoritmo en función del tamaño de la entrada n, entonces se puede decir que:"
   ]
  },
  {
   "cell_type": "markdown",
   "id": "3147a8f9-7788-46a9-904e-b8074ed121b1",
   "metadata": {},
   "source": [
    "$$\n",
    "T(n) = O(f(n))\\; si\\; \\exists \\; c \\; , \\; n_0 \\; \\textrm{tal que} \\; T(n) \\leq c.f(n) \\; \\forall n > n_0\n",
    "$$"
   ]
  },
  {
   "cell_type": "markdown",
   "id": "d283aa33-fd2c-4a8a-acdb-5e21370dce11",
   "metadata": {},
   "source": [
    "$\\; \\textrm{donde c es una constante positiva y} \\; n_0 \\; \\textrm{número natural}$"
   ]
  },
  {
   "cell_type": "markdown",
   "id": "15f2294e-6bef-4082-a97e-81232eff00f4",
   "metadata": {},
   "source": [
    "Esto quiere decir que la tasa de crecimiento de $T(n)$ es menor o igual a la tasa de crecimiento de $f(n)$. Es decir la tasa de crecimiento de $T(n)$ está acotada por arriba por $f(n)$."
   ]
  },
  {
   "cell_type": "markdown",
   "id": "02cf9f6a-ba15-486f-9769-2ac5def9524a",
   "metadata": {},
   "source": [
    "Por ejemplo, si tenemos la función $T(n)=25.n + 5$, se verifica que es de la familia de $O(n)$, es decir tiene una tasa de crecimiento lineal ya que existe $c=26$ y se verifica que $c.n$ es mayor que $T(n)\\;\\forall n\\ge5$ "
   ]
  },
  {
   "cell_type": "markdown",
   "id": "ef19fbb7-1d48-441e-82ed-b3091a90d553",
   "metadata": {},
   "source": [
    ":::{figure-md} Función Acotada\n",
    "<img src=\"../assets/images/funcion_acotada.png\" alt=\"O(n)\" width=\"800px\">\n",
    "\n",
    "$T(n) \\subset O(n)$\n",
    ":::"
   ]
  },
  {
   "cell_type": "markdown",
   "id": "0e6ec718-c714-4e30-bef9-624970187e52",
   "metadata": {},
   "source": [
    "En la siguiente figura se muestran algunas tasas de crecimiento de las funciones que comunmente se encuentran al calcular la O grande"
   ]
  },
  {
   "cell_type": "markdown",
   "id": "1e597a7d-f2d4-44c6-899a-8c9d16de4474",
   "metadata": {},
   "source": [
    ":::{figure-md} Tasas de Crecimiento\n",
    "<img src=\"../assets/images/comparacion_funciones.png\" alt=\"Tasas de Crecimiento\" width=\"800px\">\n",
    "\n",
    "Tasas de Crecimiento\n",
    ":::"
   ]
  },
  {
   "cell_type": "markdown",
   "id": "1f0eaa7a-5df6-43d4-9be9-157e0ac0d702",
   "metadata": {},
   "source": [
    "En la siguiente tabla se muestran algunas de las funciones más comunes y sus nombres"
   ]
  },
  {
   "cell_type": "markdown",
   "id": "4bc07946-f456-4cf9-9fb6-b200d1c292d7",
   "metadata": {},
   "source": [
    "::::{grid} 2\n",
    ":padding: 2\n",
    "\n",
    ":::{grid-item}\n",
    "Orden\n",
    ":::\n",
    ":::{grid-item}\n",
    "Nombre\n",
    ":::\n",
    ":::{grid-item}\n",
    "$O(1)$\n",
    ":::\n",
    ":::{grid-item}\n",
    "$constante$\n",
    ":::\n",
    ":::{grid-item}\n",
    "$O(log_2(n))$\n",
    ":::\n",
    ":::{grid-item}\n",
    "$logaritmica$\n",
    ":::\n",
    ":::{grid-item}\n",
    "$O(n)$\n",
    ":::\n",
    ":::{grid-item}\n",
    "$lineal$\n",
    ":::\n",
    ":::{grid-item}\n",
    "$O(n.log_2(n))$\n",
    ":::\n",
    ":::{grid-item}\n",
    "$casi \\; lineal$\n",
    ":::\n",
    ":::{grid-item}\n",
    "$O(n^2)$\n",
    ":::\n",
    ":::{grid-item}\n",
    "$cuadratica$\n",
    ":::\n",
    ":::{grid-item}\n",
    "$O(n^n)$\n",
    ":::\n",
    ":::{grid-item}\n",
    "$exponencial$\n",
    ":::\n",
    "::::"
   ]
  },
  {
   "cell_type": "markdown",
   "id": "b6d50779-1733-4512-ab27-1307978457c0",
   "metadata": {},
   "source": [
    "```{margin}\n",
    "Un valor simple, es un valor que se puede representar en un registro de la computadora y por lo tanto se puede leer y escribir en una única operación, por ejemplo un número entero de una longitud finita, un número en punto flotante, un bit, etc. No son valores simples los enteros de longitud indefinida o valores compuestos, por ejemplo un objeto compuestos por otros otros objetos.\n",
    "```"
   ]
  },
  {
   "cell_type": "markdown",
   "id": "dfd10935-aaa2-45f5-a505-dce7905e3f72",
   "metadata": {},
   "source": [
    "## Cálculo de la O grande\n",
    "Como ya se mencionó, para poder calcular el orden de un algoritmo se necesita contar cuantas operaciones elementales realiza.\n",
    "\n",
    "Las siguinentes son operaciones elementales:\n",
    "\n",
    "- Asignación o consulta de una variable simple.\n",
    "- Operaciones aritméticas elementales de valores simples(suma, resta, multiplicación, división y resto).\n",
    "- Comparaciones (mayor, mayor igual, igual, distinto, menor y menor igual)\n",
    "- Operaciones lógicas (and, or y not)\n",
    "- Acceso indexado a un elemento simple de un arreglo\n",
    "- Desreferenciar un puntero\n",
    "\n",
    "Todas estas operaciones demoran 1 o tienen un costo de 1 (una unidad genérica de tiempo)"
   ]
  },
  {
   "cell_type": "markdown",
   "id": "192df17b-23ec-4af2-874f-59d86cdc2fc2",
   "metadata": {},
   "source": [
    "### Operaciones complejas\n",
    "\n"
   ]
  },
  {
   "cell_type": "markdown",
   "id": "c755ac61-3e92-4d75-9bfd-5d35ac6b349c",
   "metadata": {},
   "source": [
    "**Condicionales**\n",
    "\n",
    "``` GO\n",
    "if (<condicion>){\n",
    "    <cuerpo_if>\n",
    "}else{\n",
    "    <cuerpo_else>\n",
    "}\n",
    "```\n",
    "$O(condicion)+max(O(cuerpo\\_if), O(cuerpo\\_else))$"
   ]
  },
  {
   "cell_type": "code",
   "execution_count": null,
   "id": "8fd4aac6-6cba-4890-9706-4f5d61cb3f88",
   "metadata": {},
   "outputs": [],
   "source": []
  }
 ],
 "metadata": {
  "kernelspec": {
   "display_name": "Go",
   "language": "go",
   "name": "gophernotes"
  },
  "language_info": {
   "codemirror_mode": "",
   "file_extension": ".go",
   "mimetype": "",
   "name": "go",
   "nbconvert_exporter": "",
   "pygments_lexer": "",
   "version": "go1.23.2"
  }
 },
 "nbformat": 4,
 "nbformat_minor": 5
}
