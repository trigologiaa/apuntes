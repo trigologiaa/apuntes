{
 "cells": [
  {
   "cell_type": "markdown",
   "id": "f41b5772-2e33-4328-9928-2518ae4e9209",
   "metadata": {},
   "source": [
    "# Gestión de la memoria"
   ]
  }
 ],
 "metadata": {
  "kernelspec": {
   "display_name": "Go",
   "language": "go",
   "name": "gophernotes"
  },
  "language_info": {
   "codemirror_mode": "",
   "file_extension": ".go",
   "mimetype": "",
   "name": "go",
   "nbconvert_exporter": "",
   "pygments_lexer": "",
   "version": "go1.23.2"
  }
 },
 "nbformat": 4,
 "nbformat_minor": 5
}
