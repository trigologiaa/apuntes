{
 "cells": [
  {
   "attachments": {},
   "cell_type": "markdown",
   "id": "b8d989c4-78cb-41ae-b5f9-8d31f474d2b8",
   "metadata": {
    "editable": true,
    "slideshow": {
     "slide_type": ""
    },
    "tags": []
   },
   "source": [
    "# Introducción a Go\n",
    "\n",
    "## Características Principales\n",
    "\n",
    "Go es un lenguaje de programación desarrollado por Google, que se lanzó oficialmente en 2009. Es un lenguaje compilado, es decir que una vez escrito el código fuente se debe traducir a código máquina para poder ejecutarlo, esta operación de traducción se conoce como compilación.\n",
    "\n",
    "Los creadores de Go, [Robert Griesemer](https://en.wikipedia.org/wiki/Robert_Griesemer), [Rob Pike](https://en.wikipedia.org/wiki/Rob_Pike) y [Ken Thompson](https://en.wikipedia.org/wiki/Ken_Thompson), han dicho que aunque la sintáxis del lenguaje está inspirada principalmente en C y en Python y en menor medida en Java, el objetivo siempre fue crear un nuevo lenguaje simple y eficiente. Go fue diseñado para ambientes altamente productivos y concurrentes (es decir donde varios programas se ejecutan al mismo tiempo y comparten recursos). Fue liberado cómo código abierto y está disponible para todos los sistemas operativos.\n",
    "\n",
    "```{margin}\n",
    "Los lenguajes compilados cuyo código fuente se traduce de antemano a código máquina, en general suelen ser muy eficientes, ya que se pueden ejecutar directamente sobre la máquina sin \"intermediarios\".\n",
    "```\n",
    "\n",
    "Go es un lenguaje **fuertemente tipado** y con **tipado estático**, es decir que al momento de compilar, debe estar claramente establecido de que tipo son sus variables. Por lo tanto, cuando escribimos código, al declarar una variable se debe declarar de que tipo es.\n",
    "\n",
    "Fuertemente tipado significa que no se puede realizar operaciones entre distintos tipos de datos que no están previamente establecidas por el lenguaje o el programador. Las conversiones entre distintos tipos se deben realizar explicitamente, por ejemplo si queremos sumarle a un número entero un número en decimal (en punto flotante) primero debemos convertir el número en punto flotante a entero y así el resultado será otro entero.\n",
    "\n",
    "```{note}\n",
    "Un sistema de tipos permite definir que valores puede tomar una variable y que operaciones se pueden hacer con esos valores.\n",
    "```\n",
    "\n",
    "La gestión de la memoria es automática, es decir el programador puede desentenderse de liberar la memoria que ya no se utiliza. Go implementa un **recolector de basura** o _garbage collector_, que identifica y libera zonas de la memoria que el programa en ejecución ya no necesita. La asignación de memoria también es automática, cuando se declara una variable, como se declara el tipo de la misma, Go sabe exactamente cuanta memoria reservar para almacenar cualquier dato del tipo declarado.\n",
    "\n",
    "Go no es un lenguaje orientado a objetos, es decir no hay clases ni objetos como en Java por ejemplo, sino que utiliza `struct`, a la C, lo que nos permite definir nuevos tipos de datos."
   ]
  },
  {
   "cell_type": "code",
   "execution_count": 1,
   "id": "b16fe92a-eda9-4565-977d-4977f6475c15",
   "metadata": {
    "editable": true,
    "slideshow": {
     "slide_type": "subslide"
    },
    "tags": []
   },
   "outputs": [],
   "source": [
    "package main\n",
    "\n",
    "import \"fmt\"\n",
    "\n",
    "func main() {\n",
    "   fmt.Println(\"Hola mundo!\")\n",
    "}"
   ]
  },
  {
   "cell_type": "code",
   "execution_count": 2,
   "id": "d3b47008-55e2-44b0-a5be-3c3d47072f85",
   "metadata": {
    "editable": true,
    "slideshow": {
     "slide_type": "subslide"
    },
    "tags": []
   },
   "outputs": [
    {
     "name": "stdout",
     "output_type": "stream",
     "text": [
      "Hola mundo!\n"
     ]
    }
   ],
   "source": [
    "main()"
   ]
  },
  {
   "cell_type": "code",
   "execution_count": 3,
   "id": "6c961f2d-98c0-44a0-bba9-f37a9cf230ce",
   "metadata": {},
   "outputs": [],
   "source": [
    "func sumar(a, b int)int{\n",
    "    return a + b\n",
    "}"
   ]
  },
  {
   "cell_type": "code",
   "execution_count": 4,
   "id": "fa40868e-c43f-4b4c-9ae3-cedb6006f2fe",
   "metadata": {},
   "outputs": [
    {
     "data": {
      "text/plain": [
       "39"
      ]
     },
     "execution_count": 4,
     "metadata": {},
     "output_type": "execute_result"
    }
   ],
   "source": [
    "sumar(32, 7)"
   ]
  },
  {
   "attachments": {},
   "cell_type": "markdown",
   "id": "6d508db4-63c5-4779-bedb-5a579623125b",
   "metadata": {
    "editable": true,
    "slideshow": {
     "slide_type": ""
    },
    "tags": []
   },
   "source": [
    "## Links útiles\n",
    "\n",
    "- [Página principal](https://go.dev/)\n",
    "- [Descargar Go](https://go.dev/dl/)\n",
    "- [Tour interactivo de Go](https://go.dev/tour/)\n",
    "- [Documentación basada en ejemplos](https://gobyexample.com/)\n",
    "- [Go FAQ](https://go.dev/doc/faq)\n",
    "- [Go Playground](https://go.dev/play/) (entorno online para ejecutar código en Go)\n",
    "\n",
    "## Similitudes entre Java y Go\n",
    "\n",
    "- Son lenguajes compilados y con chequeo estático de tipos.\n",
    "- Implementan un recolector de basura (_Garbage Collector_).\n",
    "\n",
    "## Principales diferencias entre Java y Go\n",
    "\n",
    "- Go no es orientado a objetos.\n",
    "- Go utiliza punteros de forma directa.\n",
    "- Go permite devolver multiples valores desde una función o un método.\n",
    "- Go no tiene excepciones.\n",
    "- Go tiene interfaces pero funcionan de manera distinta que en Java.\n",
    "\n",
    "## Instalación\n",
    "\n",
    "El sitio oficial de Go es https://go.dev/ de donde se puede descargar versiones listas para instalar o el código fuente para compilar e instalar. Se recomienda seguir las instrucciones. Una vez finalizado el proceso se puede verificar la correcta instalación, abriendo una terminal y ejecutando el siguiente comando:\n",
    "\n",
    "```sh\n",
    "go version\n",
    "```\n",
    "\n",
    "### Go Playground\n",
    "\n",
    "Go ofrece un servicio online llamado Playground [https://go.dev/play](https://go.dev/play/p/kBGNnaPKcvt) que nos permite escribir y ejecutar fragmentos de código de forma simple y sin necesidad de instalar Go localmente.\n",
    "\n",
    "### Entornos de Desarrollo (IDEs)\n",
    "\n",
    "Se puede utilizar cualquier entorno de desarrollo disponbile, por ejemplo [Visual Studio Code](https://code.visualstudio.com/).\n",
    "\n",
    "## Estructura de un programa en Go\n",
    "\n",
    "Utilizando el clásico ejemplo de un hola mundo, vamos a mostrar cómo se organiza el código en Go.\n",
    "\n",
    "El código se organiza en paquetes. Por ejemplo, podemos definir un paquete llamado `saludo`, con una función que se exporta llamada `Saludar`.\n",
    "\n",
    "```{margin}\n",
    "`saludo/saludo.go`\n",
    "```\n",
    "\n",
    "```go\n",
    "package saludo\n",
    "\n",
    "import \"fmt\"\n",
    "\n",
    "func Saludar() {\n",
    "    fmt.Println(\"¡Hola mundo!\")\n",
    "}\n",
    "```\n",
    "\n",
    "Como en muchos lenguajes de programación, el punto de entrada a un programa es por medio de una función `main`, como podemos ver a continuación, donde nuestro programa hace uso del paquete `saludo`:\n",
    "\n",
    "```{margin}\n",
    "`main.go`\n",
    "```\n",
    "\n",
    "```go\n",
    "package main\n",
    "\n",
    "import \".saludo\"\n",
    "\n",
    "func main() {\n",
    "    saludo.Saludar()\n",
    "}\n",
    "```\n",
    "\n",
    "## Espacios de trabajos, módulos y paquetes\n",
    "\n",
    "Un **paquete** es una colección de archivos que cotienen código fuente, definiciones de constantes, definiciones de tipos, etc. Todos los archivos de un paquete se encuentran en un mismo directorio. Los paquetes organizan el código en forma lógica. Las variables, funciones y tipos de datos definidos dentro de un paquete son privados del mismo, es decir no se pueden utilizar afuera, a menos que se exporten explicitamente.\n",
    "\n",
    "A su vez una colección de paquetes pueden conformar un **módulo**. Un módulo es la unidad fundamental de organización y distribución de código. Los módulos permiten gestionar dependencias, compartir código y versionarlo.\n",
    "\n",
    "Un módulo se define en un directorio o carpeta que contiene un archivo `go.mod`. En este archivo se especifica el nombre del módulo, la versión de GO con el que se desarrolló y las dependencias de otros módulos. Todos los paquetes (en general cada paquete en una subcarpeta) que están en la misma carpeta que contiene el archivo `go.mod` son parte del mismo módulo. En general un módulo corresponde a un proyecto\n",
    "\n",
    ":::{figure-md} Modulo\n",
    "<img src=\"../assets/images/Modulo.svg\" alt=\"Módulo\" width=\"500px\">\n",
    "\n",
    "Módulo y Paquetes\n",
    ":::\n",
    "\n",
    "### Gestión de módulos\n",
    "Para crear un módulo se usa el comando `go init` dentro de la carpeta que contendrá el proyecto, seguido del nombre del módulo. Usualmente el nombre del módulo es el repositorio donde se aloja. Ejemplo:\n",
    "\n",
    "$ go mod init github.com/untref-ayp2/mymodules\n",
    "\n",
    "Si trabajamos en varios proyectos podemos organizarlos guardándolos a todos juntos dentro de una carpeta raíz, en un **espacio de trabajo** o workspace. La organización de los módulos dentro de un espacio de trabajo se realiza con el archivo `go.work`.\n",
    "\n",
    "```{margin}\n",
    "Un espacio de trabajo con varios módulos puede ser útil si trabajamos con varios proyectos vinculados, en caso contrario puede ser mejor tener cada proyecto por separado.\n",
    "```"
   ]
  }
 ],
 "metadata": {
  "jupytext": {
   "formats": "ipynb,md:myst"
  },
  "kernelspec": {
   "display_name": "Go",
   "language": "go",
   "name": "gophernotes"
  },
  "language_info": {
   "codemirror_mode": "",
   "file_extension": ".go",
   "mimetype": "",
   "name": "go",
   "nbconvert_exporter": "",
   "pygments_lexer": "",
   "version": "go1.24.0"
  }
 },
 "nbformat": 4,
 "nbformat_minor": 5
}
