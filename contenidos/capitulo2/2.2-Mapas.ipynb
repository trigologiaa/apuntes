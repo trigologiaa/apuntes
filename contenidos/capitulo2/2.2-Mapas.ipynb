{
 "cells": [
  {
   "cell_type": "markdown",
   "id": "e83587bf-09bf-4cd3-bc94-7deda65aca12",
   "metadata": {},
   "source": [
    "# Mapas"
   ]
  }
 ],
 "metadata": {
  "kernelspec": {
   "display_name": "Go",
   "language": "go",
   "name": "gophernotes"
  },
  "language_info": {
   "codemirror_mode": "",
   "file_extension": ".go",
   "mimetype": "",
   "name": "go",
   "nbconvert_exporter": "",
   "pygments_lexer": "",
   "version": "go1.23.2"
  }
 },
 "nbformat": 4,
 "nbformat_minor": 5
}
