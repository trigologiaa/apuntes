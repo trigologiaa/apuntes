{
 "cells": [
  {
   "cell_type": "markdown",
   "id": "2df4f3ff-b0ac-44d5-8c37-857f5506d22d",
   "metadata": {},
   "source": [
    "# Arreglos y Slices"
   ]
  },
  {
   "cell_type": "code",
   "execution_count": null,
   "id": "aaddf2c3-df98-4086-be65-025b12a94c35",
   "metadata": {},
   "outputs": [],
   "source": []
  }
 ],
 "metadata": {
  "kernelspec": {
   "display_name": "Go",
   "language": "go",
   "name": "gophernotes"
  },
  "language_info": {
   "codemirror_mode": "",
   "file_extension": ".go",
   "mimetype": "",
   "name": "go",
   "nbconvert_exporter": "",
   "pygments_lexer": "",
   "version": "go1.23.2"
  }
 },
 "nbformat": 4,
 "nbformat_minor": 5
}
