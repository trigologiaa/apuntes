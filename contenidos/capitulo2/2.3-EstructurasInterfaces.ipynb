{
 "cells": [
  {
   "cell_type": "markdown",
   "id": "1e9f3670-74bb-408a-8006-4f5e5f13b20f",
   "metadata": {},
   "source": [
    "# Estructuras e Interfaces\n",
    "\n",
    "Incluir tipos de datos parametrizados con struct y interface. Definir el tipo de dato Ordered como interface"
   ]
  }
 ],
 "metadata": {
  "kernelspec": {
   "display_name": "Go",
   "language": "go",
   "name": "gophernotes"
  },
  "language_info": {
   "codemirror_mode": "",
   "file_extension": ".go",
   "mimetype": "",
   "name": "go",
   "nbconvert_exporter": "",
   "pygments_lexer": "",
   "version": "go1.23.2"
  }
 },
 "nbformat": 4,
 "nbformat_minor": 5
}
