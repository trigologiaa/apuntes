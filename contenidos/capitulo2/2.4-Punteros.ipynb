{
 "cells": [
  {
   "cell_type": "markdown",
   "id": "947d8b42-f610-43e1-b186-9a1bddbc0fba",
   "metadata": {},
   "source": [
    "# Punteros"
   ]
  }
 ],
 "metadata": {
  "kernelspec": {
   "display_name": "Go",
   "language": "go",
   "name": "gophernotes"
  },
  "language_info": {
   "codemirror_mode": "",
   "file_extension": ".go",
   "mimetype": "",
   "name": "go",
   "nbconvert_exporter": "",
   "pygments_lexer": "",
   "version": "go1.23.2"
  }
 },
 "nbformat": 4,
 "nbformat_minor": 5
}
