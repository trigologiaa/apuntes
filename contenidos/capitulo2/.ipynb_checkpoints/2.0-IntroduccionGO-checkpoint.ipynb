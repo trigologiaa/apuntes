{
 "cells": [
  {
   "cell_type": "markdown",
   "id": "d7ffb675-c03f-4cd2-a673-47709b4e4eb4",
   "metadata": {
    "editable": true,
    "slideshow": {
     "slide_type": ""
    },
    "tags": []
   },
   "source": [
    "# Introducción a <img src=\"../assets/images/InlineGO.svg\" alt=\"GO\" width=\"80px\" />\n",
    "## Características Principales\n",
    "GO es un lenguaje de programación desarrollado por Google, que se lanzó oficialmente en 2009. Es un lenguaje compilado, es decir que una vez escrito el código fuente se debe traducir a código máquina para poder ejecutarlo, esta operación de traducción se conoce como compilación.\n",
    "\n",
    "Los creadores de GO, [Robert Griesemer](https://en.wikipedia.org/wiki/Robert_Griesemer), [Rob Pike](https://en.wikipedia.org/wiki/Rob_Pike) y [Ken Thompson](https://en.wikipedia.org/wiki/Ken_Thompson), han dicho que aunque la sintáxis del lenguaje está inspirada principalmente en C y en Python y en menor medida en Java, el objetivo siempre fue crear un nuevo lenguaje simple y eficiente. GO fue diseñado para ambientes altamente productivos y concurrentes (es decir donde varios programas se ejecutan al mismo tiempo y comparten recursos). Fue liberado cómo código abierto y está disponible para todos los sistemas operativos."
   ]
  },
  {
   "cell_type": "markdown",
   "id": "89065491-4769-4977-9b58-c1c91f6c800f",
   "metadata": {
    "editable": true,
    "slideshow": {
     "slide_type": ""
    },
    "tags": []
   },
   "source": [
    "```{margin}\n",
    "Los lenguajes compilados cuyo código fuente se traduce de antemano a código máquina, en general suelen ser muy eficientes, ya que se pueden ejecutar directamente sobre la máquina sin \"intermediarios\".\n",
    "```"
   ]
  },
  {
   "cell_type": "markdown",
   "id": "5926c442-03b1-4f59-a236-106ddb1399dc",
   "metadata": {
    "editable": true,
    "slideshow": {
     "slide_type": ""
    },
    "tags": []
   },
   "source": [
    "GO es un lenguaje **fuertemente tipado** y con **tipado estático**, es decir que al momento de compilar, debe estar claramente establecido de que tipo son sus variables. Por lo tanto, cuando escribimos código, al declarar una variable se debe declarar de que tipo es. \n",
    "\n",
    "Fuertemente tipado significa que no se puede realizar operaciones entre distintos tipos de datos que no están previamente establecidas por el lenguaje o el programador. Las conversiones entre distintos tipos se deben realizar explicitamente, por ejemplo si queremos sumarle a un número entero un número en decimal (en punto flotante) primero debemos convertir el número en punto flotante a entero y así el resultado será otro entero."
   ]
  },
  {
   "cell_type": "markdown",
   "id": "f018b346-adad-488b-a993-9366ee54bb77",
   "metadata": {
    "editable": true,
    "slideshow": {
     "slide_type": ""
    },
    "tags": []
   },
   "source": [
    "```{Note}\n",
    "Un sistema de tipos permite definir que valores puede tomar una variable y que operaciones se pueden hacer con esos valores.\n",
    "```"
   ]
  },
  {
   "cell_type": "markdown",
   "id": "fb2916fa-af27-4b00-862a-18fc29aa7dd0",
   "metadata": {
    "editable": true,
    "slideshow": {
     "slide_type": ""
    },
    "tags": []
   },
   "source": [
    "La gestión de la memoria es automática, es decir el programador puede desentenderse de liberar la memoria que ya no se utiliza. GO implementa un _recolector de basura_ o garbage collector, que identifica y libera zonas de la memoria que el programa en ejecución ya no necesita. La asignación de memoria también es automática, cuando se declara una variable, como se declara el tipo de la misma, GO sabe exactamente cuanta memoria reservar para almacenar cualquier dato del tipo declarado.\n",
    "\n",
    "GO no es un lenguaje orientado a objetos, es decir no hay clases ni objetos como en Java por ejemplo, sino que utiliza `struct`, a la C, lo que nos permite definir nuevos tipos de datos."
   ]
  },
  {
   "cell_type": "code",
   "execution_count": 1,
   "id": "a9ac0d2a-032c-4a1e-a6d5-b591fb21a7ac",
   "metadata": {
    "editable": true,
    "slideshow": {
     "slide_type": "subslide"
    },
    "tags": []
   },
   "outputs": [
    {
     "name": "stdout",
     "output_type": "stream",
     "text": [
      "Hola mundo!\n"
     ]
    }
   ],
   "source": [
    "package main\n",
    "\n",
    "import \"fmt\"\n",
    "\n",
    "func main() {\n",
    "   fmt.Println(\"Hola mundo!\")\n",
    "}\n",
    "\n",
    "main()"
   ]
  },
  {
   "cell_type": "code",
   "execution_count": 4,
   "id": "710b1996-d075-4f65-a6c6-305f07b82d2a",
   "metadata": {},
   "outputs": [
    {
     "data": {
      "text/plain": [
       "39"
      ]
     },
     "execution_count": 4,
     "metadata": {},
     "output_type": "execute_result"
    }
   ],
   "source": [
    "func sumar(a, b int)int{\n",
    "    return a+b\n",
    "}\n",
    "\n",
    "sumar(32,7)"
   ]
  },
  {
   "cell_type": "markdown",
   "id": "b5567f3b-2312-42ca-868b-3f96e2ee7177",
   "metadata": {
    "editable": true,
    "slideshow": {
     "slide_type": ""
    },
    "tags": []
   },
   "source": [
    "Se recomienda realizar el [Tour de GO](https://go.dev/tour/welcome/1)"
   ]
  },
  {
   "cell_type": "markdown",
   "id": "c57ac4e0-ca51-4361-8345-70a8083bbcb3",
   "metadata": {
    "editable": true,
    "slideshow": {
     "slide_type": ""
    },
    "tags": []
   },
   "source": [
    "## Instalación (EN PROCESO)\n",
    "El sitio oficial de GO es https://go.dev/ de donde se puede descargar versiones listas para instalar o el código fuente para compilar e instalar. Se recomienda seguir las instrucciones. Una vez finalizado el proceso se puede verificar la correcta instalación, abriendo una terminal y ejecutando el siguiente comando:"
   ]
  },
  {
   "cell_type": "code",
   "execution_count": 1,
   "id": "5c9b7633-3ce9-476c-a1c0-b0baa72a85ac",
   "metadata": {
    "editable": true,
    "slideshow": {
     "slide_type": ""
    },
    "tags": []
   },
   "outputs": [
    {
     "name": "stdout",
     "output_type": "stream",
     "text": [
      "go version go1.23.2 linux/amd64\n"
     ]
    }
   ],
   "source": [
    "$ go version"
   ]
  },
  {
   "cell_type": "markdown",
   "id": "782f39f5-bdbb-426f-98a7-113e9648d919",
   "metadata": {
    "editable": true,
    "slideshow": {
     "slide_type": ""
    },
    "tags": []
   },
   "source": [
    "### GO Playground\n",
    "GO ofrece un servicio online llamado [Playground](https://go.dev/play/p/kBGNnaPKcvt) que nos permite escribir y ejecutar fragmentos de código. \n",
    "\n",
    "**AMPLIAR**"
   ]
  },
  {
   "cell_type": "markdown",
   "id": "5cc14a3a-209e-4960-99e3-6ab345f437ff",
   "metadata": {
    "editable": true,
    "slideshow": {
     "slide_type": ""
    },
    "tags": []
   },
   "source": [
    "### Entornos de Desarrollo (IDEs)\n",
    "Se puede utilizar cualquier entorno de desarrollo disponbile, por ejemplo [Visual Studio Code](https://code.visualstudio.com/) \n",
    "\n",
    "**COMPLETAR**"
   ]
  },
  {
   "cell_type": "markdown",
   "id": "1e23760d-1a6b-4c18-8d26-cfdb9ea946a4",
   "metadata": {
    "editable": true,
    "slideshow": {
     "slide_type": ""
    },
    "tags": []
   },
   "source": [
    "## Espacios de trabajos, módulos y paquetes\n",
    "\n",
    "Un **paquete** es una colección de archivos que cotienen código fuente, definiciones de constantes, definiciones de tipos, etc. Todos los archivos de un paquete se encuentran en un mismo directorio. Los paquetes organizan el código en forma lógica. Las variables, funciones y tipos de datos definidos dentro de un paquete son privados del mismo, es decir no se pueden utilizar afuera, a menos que se exporten explicitamente.\n",
    "\n",
    "A su vez una colección de paquetes pueden conformar un **módulo**. Un módulo es la unidad fundamental de organización y distribución de código. Los módulos permiten gestionar dependencias, compartir código y versionarlo.\n",
    "\n",
    "Un módulo se define en un directorio o carpeta que contiene un archivo `go.mod`. En este archivo se especifica el nombre del módulo, la versión de GO con el que se desarrolló y las dependencias de otros módulos. Todos los paquetes (en general cada paquete en una subcarpeta) que están en la misma carpeta que contiene el archivo `go.mod` son parte del mismo módulo. En general un módulo corresponde a un proyecto"
   ]
  },
  {
   "cell_type": "markdown",
   "id": "fe9b78dc-f0d0-4326-a4a7-3c5b3cf14d9a",
   "metadata": {},
   "source": [
    ":::{figure-md} Modulo\n",
    "<img src=\"../assets/images/Modulo.svg\" alt=\"Módulo\" width=\"500px\">\n",
    "\n",
    "Módulo y Paquetes\n",
    ":::"
   ]
  },
  {
   "cell_type": "markdown",
   "id": "72562469-155f-4744-8ca4-bd5501d85374",
   "metadata": {},
   "source": [
    "### Gestión de módulos\n",
    "Para crear un módulo se usa el comando `go init` dentro de la carpeta que contendrá el proyecto, seguido del nombre del módulo. Usualmente el nombre del módulo es el repositorio donde se aloja. Ejemplo:"
   ]
  },
  {
   "cell_type": "markdown",
   "id": "14c420a3-2b9b-4b7e-9b8c-9556bbedf78c",
   "metadata": {},
   "source": [
    "$ go mod init github.com/untref-ayp2/mymodules"
   ]
  },
  {
   "cell_type": "markdown",
   "id": "f86fe952-9c22-43f5-ab39-14d0b0b66aad",
   "metadata": {},
   "source": [
    "Si trabajamos en varios proyectos podemos organizarlos guardándolos a todos juntos dentro de una carpeta raíz, en un **espacio de trabajo** o workspace. La organización de los módulos dentro de un espacio de trabajo se realiza con el archivo `go.work`."
   ]
  },
  {
   "cell_type": "markdown",
   "id": "656d3329-ddc1-4002-a86e-62b13432c7ee",
   "metadata": {},
   "source": [
    "```{margin}\n",
    " Un espacio de trabajo con varios módulos puede ser útil si trabajamos con varios proyectos vinculados, en caso contrario puede ser mejor tener cada proyecto por separado.\n",
    " ```"
   ]
  },
  {
   "cell_type": "code",
   "execution_count": null,
   "id": "a4d62719-246a-472e-9a59-49140b84e506",
   "metadata": {},
   "outputs": [],
   "source": []
  }
 ],
 "metadata": {
  "jupytext": {
   "formats": "ipynb,md:myst"
  },
  "kernelspec": {
   "display_name": "Go",
   "language": "go",
   "name": "gophernotes"
  },
  "language_info": {
   "codemirror_mode": "",
   "file_extension": ".go",
   "mimetype": "",
   "name": "go",
   "nbconvert_exporter": "",
   "pygments_lexer": "",
   "version": "go1.23.2"
  }
 },
 "nbformat": 4,
 "nbformat_minor": 5
}
