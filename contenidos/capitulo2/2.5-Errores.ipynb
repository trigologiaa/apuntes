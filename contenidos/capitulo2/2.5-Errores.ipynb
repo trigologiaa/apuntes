{
 "cells": [
  {
   "cell_type": "markdown",
   "id": "f94a2af0-8c36-4d2a-8ec5-1c1aa81d48a8",
   "metadata": {},
   "source": [
    "# Manejo de Errores"
   ]
  }
 ],
 "metadata": {
  "kernelspec": {
   "display_name": "Go",
   "language": "go",
   "name": "gophernotes"
  },
  "language_info": {
   "codemirror_mode": "",
   "file_extension": ".go",
   "mimetype": "",
   "name": "go",
   "nbconvert_exporter": "",
   "pygments_lexer": "",
   "version": "go1.23.2"
  }
 },
 "nbformat": 4,
 "nbformat_minor": 5
}
