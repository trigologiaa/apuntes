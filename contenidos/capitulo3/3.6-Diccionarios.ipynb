{
 "cells": [
  {
   "cell_type": "markdown",
   "id": "f44d9795-cca2-4fb5-85c9-8ea54b90bb5f",
   "metadata": {},
   "source": [
    "# Diccionarios"
   ]
  }
 ],
 "metadata": {
  "kernelspec": {
   "display_name": "Go",
   "language": "go",
   "name": "gophernotes"
  },
  "language_info": {
   "codemirror_mode": "",
   "file_extension": ".go",
   "mimetype": "",
   "name": "go",
   "nbconvert_exporter": "",
   "pygments_lexer": "",
   "version": "go1.23.2"
  }
 },
 "nbformat": 4,
 "nbformat_minor": 5
}
