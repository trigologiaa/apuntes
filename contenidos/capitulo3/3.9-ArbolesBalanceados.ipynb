{
 "cells": [
  {
   "cell_type": "markdown",
   "id": "f24a22a5-b7f8-449f-aafa-9b008cf3b949",
   "metadata": {},
   "source": [
    "# Árboles Balanceados"
   ]
  }
 ],
 "metadata": {
  "kernelspec": {
   "display_name": "Go",
   "language": "go",
   "name": "gophernotes"
  },
  "language_info": {
   "codemirror_mode": "",
   "file_extension": ".go",
   "mimetype": "",
   "name": "go",
   "nbconvert_exporter": "",
   "pygments_lexer": "",
   "version": "go1.23.2"
  }
 },
 "nbformat": 4,
 "nbformat_minor": 5
}
