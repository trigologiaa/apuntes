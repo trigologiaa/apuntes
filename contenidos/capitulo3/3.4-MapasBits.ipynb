{
 "cells": [
  {
   "cell_type": "markdown",
   "id": "5908eba6-cd03-4b6a-a13c-298cb59443db",
   "metadata": {},
   "source": [
    "# Mapas de Bits"
   ]
  }
 ],
 "metadata": {
  "kernelspec": {
   "display_name": "Go",
   "language": "go",
   "name": "gophernotes"
  },
  "language_info": {
   "codemirror_mode": "",
   "file_extension": ".go",
   "mimetype": "",
   "name": "go",
   "nbconvert_exporter": "",
   "pygments_lexer": "",
   "version": "go1.23.2"
  }
 },
 "nbformat": 4,
 "nbformat_minor": 5
}
