{
 "cells": [
  {
   "cell_type": "markdown",
   "id": "7578c0bc-1b37-4208-8527-e07b0d7ca43f",
   "metadata": {},
   "source": [
    "# Pilas y Colas"
   ]
  }
 ],
 "metadata": {
  "kernelspec": {
   "display_name": "Go",
   "language": "go",
   "name": "gophernotes"
  },
  "language_info": {
   "codemirror_mode": "",
   "file_extension": ".go",
   "mimetype": "",
   "name": "go",
   "nbconvert_exporter": "",
   "pygments_lexer": "",
   "version": "go1.23.2"
  }
 },
 "nbformat": 4,
 "nbformat_minor": 5
}
