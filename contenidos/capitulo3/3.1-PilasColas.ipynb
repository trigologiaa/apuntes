{
 "cells": [
  {
   "cell_type": "markdown",
   "id": "7578c0bc-1b37-4208-8527-e07b0d7ca43f",
   "metadata": {},
   "source": [
    "# Pilas y Colas\n",
    "\n",
    "Los primeros TAD que vamos a estudiar son Pilas y Colas. \n",
    "\n",
    "Pilas y Colas son estructuras de datos **dinámicas** que mantienen el orden de los elementos y donde los elementos que se agregan y remueven tienen una ubicación específica.\n"
   ]
  },
  {
   "cell_type": "markdown",
   "id": "51be4834-7f30-4a7c-bb1d-4a869cc339ca",
   "metadata": {},
   "source": [
    "```{margin}\n",
    "un TAD dinámico es un TAD que puede modificar su tamaño, es decir, el espacio en memoria que ocupa, en función de la cantidad de datos que almacena\n",
    "```"
   ]
  },
  {
   "cell_type": "markdown",
   "id": "ffaad2cc-98e5-43c0-93db-8d8839cac76e",
   "metadata": {},
   "source": [
    "## Pila \n",
    "Es una estructura del tipo **LIFO (Last In First Out)** es decir el último elemento que ingresó en la pila será el primer elemento en salir. Por ejemplo, en una {ref}`pila-libros` si queremos agregar un nuevo libro debemos colocarlo encima de la pila, sobre el último libro. A su vez el último libro de la pila es el único al que le podemos ver su portada y sacar de la pila. Por lo tanto para sacar el libro de abajo de la pila, primero hay que sacar uno por uno todos los libros que están apilados sobre él.  "
   ]
  },
  {
   "cell_type": "markdown",
   "id": "a54d1f20-e7ca-4f75-a30e-6823e70048e8",
   "metadata": {},
   "source": [
    "```{figure} ../assets/images/book-stack.svg\n",
    "---\n",
    "width: 300px\n",
    "name: pila-libros\n",
    "---\n",
    "Pila de Libros\n",
    "```"
   ]
  },
  {
   "cell_type": "markdown",
   "id": "7613da16-d37a-43a6-8537-95b58982751d",
   "metadata": {},
   "source": [
    "A partir de la descripción del comportamiento de la pila de libros, podemos intuir el comportamiento de la estructura Pila o Stack:\n",
    "\n",
    "Push\n",
    ": Permite insertar un elemento en la pila (siempre en el tope de la misma)\n",
    "\n",
    "Pop\n",
    ": Permite extraer un elemento de la pila (siempre el que está en el tope). Si se intenta hacer un Pop de una pila vacía se debe indicar un error\n",
    "\n",
    "Top\n",
    ": Permite ver el último elemento que ingresó en la pila, sin sacarlo. Si se intenta hacer un Top de una pila vacía se debe indicar un error\n",
    "\n",
    "IsEmpty\n",
    ": Verifica si la pila está vacía. Devuelve `true` si la pila está vacía o `false` en caso contrario\n",
    "\n",
    "Todas las operaciones deben ser $O(1)$. Es decir de tiempo constante, independiente del tamaño de la entrada\n"
   ]
  },
  {
   "cell_type": "markdown",
   "id": "11d3dc0e-06c4-4084-91ae-216a382b1f3d",
   "metadata": {},
   "source": [
    "Este comportamiento define la **interfaz** del tipo Pila, es decir las operaciones válidas que se pueden realizar sobre la misma. Falta definir la implementación, es decir la estructura de datos interna que utilizaremos para almacenar nuestros datos. A continuación se muestra una implementación de una pila sobre slices de GO, es decir sobre arreglos dinámicos capaces de aumentar su tamaño a medida que se necesita almacenar más elementos.\n",
    "\n",
    "En la definición de la pila no hay ninguna restricción sobre el tipo de elementos que se almacenan, por ejemplo podríamos apilar, libros, revistas, cajas, en una única pila. El tamaño de la pila debe ser un entero entre 0 y N (invariante de representación)\n",
    "\n",
    "Para poder tener una pila genérica, es decir, donde no hay restricciones sobre el tipo de datos que se almacena se puede usar el tipo de datos `Any`. \n",
    "\n",
    "A continuación se define el TAD Stack, que internamente estará implementado sobre un arreglo dinámico o slice de GO."
   ]
  },
  {
   "cell_type": "code",
   "execution_count": 47,
   "id": "44ad97c5-d35a-44b1-aa7b-ff327025e535",
   "metadata": {},
   "outputs": [],
   "source": [
    "import \"errors\"\n",
    "\n",
    "type Stack struct {\n",
    "\tdata []any\n",
    "}"
   ]
  },
  {
   "cell_type": "markdown",
   "id": "a74fec79-46fe-49e8-9dfb-809012256171",
   "metadata": {},
   "source": [
    "El contenedor de datos `data` está encapsulado dentro del `struct`. "
   ]
  },
  {
   "cell_type": "markdown",
   "id": "f42a7a65-ed69-413d-b771-16fd256d0aea",
   "metadata": {},
   "source": [
    "````{margin}\n",
    "Como ya se mencionó es fundamental ocultar la implementación para que no se pueda manipular el contenedor de datos con operaciones no permitidas. por ejemplo, la definición:\n",
    "\n",
    "```go\n",
    "// Forma incorrecta de definir un pila, \n",
    "// porque no encapsula el contenedor de datos\n",
    "type Stack []any\n",
    "```\n",
    "deja expuesto el contenedor de datos y se podría manipular con operaciones propias de slices.\n",
    "```go\n",
    "p := Stack\n",
    "p = append(p, \"hola\")\n",
    "p = append(p, 2)\n",
    "p[0] = \"chau\"\n",
    "```\n",
    "En este fragmento se agregan elementos a la pila, usando la función `append` de GO y luego se modifica el primer elemento de la pila\n",
    "````"
   ]
  },
  {
   "cell_type": "code",
   "execution_count": 54,
   "id": "4527bfbf-c0eb-4d61-bfd0-4783b03b8f2f",
   "metadata": {},
   "outputs": [],
   "source": [
    "func NewStack() *Stack {\n",
    "    var pila Stack\n",
    "\treturn &pila\n",
    "}"
   ]
  },
  {
   "cell_type": "markdown",
   "id": "62f02acb-aff4-4ede-b6c5-7ab758de6a01",
   "metadata": {},
   "source": [
    "`NewStack` es una especie de constructor, que nos devuelve una pila vacía cada vez que se llama. Reserva espacio en memoria para almacenar la pila y devuelve la dirección de memoria correspondiente."
   ]
  },
  {
   "cell_type": "code",
   "execution_count": 55,
   "id": "06166038-fc9c-4e1b-851b-18bf6413aaa3",
   "metadata": {},
   "outputs": [],
   "source": [
    "func (s *Stack) IsEmpty() bool {\n",
    "\treturn len(s.data) == 0\n",
    "}"
   ]
  },
  {
   "cell_type": "markdown",
   "id": "af03b348-9bf8-4229-bc71-a4189eaab08c",
   "metadata": {},
   "source": [
    "`IsEmpty` chequea si la cantidad de elementos del contenedor de datos es igual a 0"
   ]
  },
  {
   "cell_type": "code",
   "execution_count": 56,
   "id": "f549d863-d665-46fb-a3f1-8c5fd97dbd76",
   "metadata": {},
   "outputs": [],
   "source": [
    "func (s *Stack) Push(x any) {\n",
    "\ts.data = append(s.data, x)\n",
    "}"
   ]
  },
  {
   "cell_type": "markdown",
   "id": "e9b4a7cd-b660-49ef-b0da-89b1a00e5937",
   "metadata": {},
   "source": [
    "`Push` agrega siempre al final del arreglo el elemento que recibe"
   ]
  },
  {
   "cell_type": "code",
   "execution_count": 57,
   "id": "6a95482f-5360-41db-89f6-8c245437c473",
   "metadata": {},
   "outputs": [],
   "source": [
    "func (s *Stack) Pop() (any, error) {\n",
    "    var x any\n",
    "\tif s.IsEmpty() {\n",
    "\t\treturn x, errors.New(\"pila vacía\")\n",
    "\t}\n",
    "\tx = s.data[len(s.data)-1]\n",
    "\ts.data = s.data[:len(s.data)-1]\n",
    "\n",
    "\treturn x, nil\n",
    "}"
   ]
  },
  {
   "cell_type": "markdown",
   "id": "3c53281a-1526-4964-bad5-85e7d8436e2f",
   "metadata": {},
   "source": [
    "`Pop` chequea si la pila está vacía, en ese caso devuelve el par `(nil, error)`. Caso contrario devuelve el par `(x, nil)` y elimina el tope de la pila. Siempre devuelve un par de valores."
   ]
  },
  {
   "cell_type": "code",
   "execution_count": 58,
   "id": "dd0d1c2c-83e9-4a39-a1c5-51c532d31505",
   "metadata": {},
   "outputs": [],
   "source": [
    "func (s *Stack) Top() (any, error) {\n",
    "\tvar x any\n",
    "\tif s.IsEmpty() {\n",
    "\t\treturn x, errors.New(\"pila vacía\")\n",
    "\t}\n",
    "\tx = s.data[len(s.data)-1]\n",
    "\n",
    "\treturn x, nil\n",
    "}"
   ]
  },
  {
   "cell_type": "markdown",
   "id": "b6a188d7-9448-4ea9-b829-3fcdc4014ee2",
   "metadata": {},
   "source": [
    "`Top` es similar a `Pop` pero no elimina el tope"
   ]
  },
  {
   "cell_type": "code",
   "execution_count": 59,
   "id": "c7de70cb-ad11-4df5-96ef-4697e8eaf156",
   "metadata": {},
   "outputs": [
    {
     "name": "stdout",
     "output_type": "stream",
     "text": [
      "La pila no está vacía\n",
      "Elemento en la cima de la pila: 3.52\n",
      "Elemento extraído de la pila: 3.52\n",
      "Elemento extraído de la pila: cadena\n",
      "Elemento extraído de la pila: 1\n",
      "La pila está vacía\n"
     ]
    }
   ],
   "source": [
    "import \"fmt\"\n",
    "func main() {\n",
    "\t// Crear una nueva pila de enteros\n",
    "\ts := NewStack()\n",
    "\n",
    "\t// Agregar elementos a la pila\n",
    "\ts.Push(1)\n",
    "\ts.Push(\"cadena\")\n",
    "\ts.Push(3.52)\n",
    "\n",
    "\t// Verificar si la pila está vacía\n",
    "\tif s.IsEmpty() {\n",
    "\t\tfmt.Println(\"La pila está vacía\")\n",
    "\t} else {\n",
    "\t\tfmt.Println(\"La pila no está vacía\")\n",
    "\t}\n",
    "\n",
    "\t// Consultar el elemento en la cima de la pila\n",
    "\ttopElement, _ := s.Top()\n",
    "\tfmt.Println(\"Elemento en la cima de la pila:\", topElement)\n",
    "\n",
    "\t// Extraer elementos de la pila\n",
    "\tfor !s.IsEmpty() {\n",
    "\t\tpoppedElement, _ := s.Pop()\n",
    "\t\tfmt.Println(\"Elemento extraído de la pila:\", poppedElement)\n",
    "\t}\n",
    "\n",
    "\t// Verificar si la pila está vacía\n",
    "\tif s.IsEmpty() {\n",
    "\t\tfmt.Println(\"La pila está vacía\")\n",
    "\t} else {\n",
    "\t\tfmt.Println(\"La pila no está vacía\")\n",
    "\t}\n",
    "}\n",
    "\n",
    "main()\n"
   ]
  },
  {
   "cell_type": "markdown",
   "id": "218d3c53-2a78-4091-bad2-fbbaeb561ba3",
   "metadata": {},
   "source": [
    "## Cola\n",
    "Es una estructura del tipo **FIFO (First In First Out)** es decir el primer elemento en ingresar en la cola es el primero en salir. Un ejemplo clásico del uso de esta estructura es para modelar una {ref}`cola-personas`, por ejemplo en la caja de un supermercado. La última persona que llega se coloca al final de la cola y espera su turno para hacer atendido"
   ]
  },
  {
   "cell_type": "markdown",
   "id": "19c9dc59-0e69-49f3-b2fe-3a09918b1441",
   "metadata": {},
   "source": [
    "```{figure} ../assets/images/line-people.svg\n",
    "---\n",
    "width: 500px\n",
    "name: cola-personas\n",
    "---\n",
    "Cola de Espera\n",
    "```"
   ]
  },
  {
   "cell_type": "markdown",
   "id": "5bd2ab13-ebdc-41cf-b6d6-72377eb8f024",
   "metadata": {},
   "source": [
    "El comportamiento de la cola queda definido por los siguientes métodos:\n",
    "\n",
    "Enqueue\n",
    ": Permite insertar un elemento en la cola (siempre en la última posición)\n",
    "\n",
    "Dequeue\n",
    ": Permite extraer un elemento de la cola (siempre el primero). Si se intenta hacer un Dequeue de una cola vacía se debe indicar un error\n",
    "\n",
    "Front\n",
    ": Permite ver el primer elemento de la cola. Si se intenta hacer un Front de una cola vacía se debe indicar un error\n",
    "\n",
    "IsEmpty\n",
    ": Verifica si la Coa está vacía. Devuelve `true` si la cola está vacía o `false` en caso contrario\n",
    "\n",
    "Todas las operaciones deben ser $O(1)$. Es decir de tiempo constante, independiente del tamaño de la entrada\n"
   ]
  },
  {
   "cell_type": "markdown",
   "id": "954cca94-54c7-4ea3-b765-58b32274c598",
   "metadata": {},
   "source": [
    "## Ejercicios\n",
    "1. Implementar una cola genérica, similar a la pila dada.\n",
    "2. Verificar que todas las operaciones de pila y cola sean $O(1)$\n",
    "3. Escribir casos de pruebas para las operaciones de pila y cola[^1]."
   ]
  },
  {
   "cell_type": "markdown",
   "id": "079a152a-1c61-45e2-ae79-c3f27ee8287d",
   "metadata": {},
   "source": [
    "[^1]: Los casos deben cubrir todas las operaciones "
   ]
  },
  {
   "cell_type": "code",
   "execution_count": null,
   "id": "2e730848-e46c-489c-af8c-683b0bcc73f3",
   "metadata": {},
   "outputs": [],
   "source": []
  }
 ],
 "metadata": {
  "kernelspec": {
   "display_name": "Go",
   "language": "go",
   "name": "gophernotes"
  },
  "language_info": {
   "codemirror_mode": "",
   "file_extension": ".go",
   "mimetype": "",
   "name": "go",
   "nbconvert_exporter": "",
   "pygments_lexer": "",
   "version": "go1.23.2"
  }
 },
 "nbformat": 4,
 "nbformat_minor": 5
}
