{
 "cells": [
  {
   "cell_type": "markdown",
   "id": "a1a6a5fc-37e7-4b86-90ac-17f94f53f5a9",
   "metadata": {},
   "source": [
    "# Tipos Abstractos de Datos\n",
    "\n",
    "Podemos imaginar un Tipo Abstracto de Datos (TAD) o Abstract Data Type (DAT) en inglés, como una caja negra, la que puede contener valores y manipularlos, es decir realizar acciones con esos valores, por ejemplo ordenarlos, buscar un elemento dado, etc. "
   ]
  },
  {
   "cell_type": "markdown",
   "id": "0ba68dc3-1b4c-4e9a-8906-dc3486560ebc",
   "metadata": {},
   "source": [
    "````{Admonition} Definición\n",
    "\n",
    "Un TAD es un modelo matemático caracterizado por:\n",
    "\n",
    "Un conjunto de valores\n",
    ": Son los datos que se pueden manipular.\n",
    "\n",
    "Un conjunto de operaciones\n",
    ": Son las acciones que se pueden hacer sobre los datos.\n",
    "````"
   ]
  },
  {
   "cell_type": "markdown",
   "id": "ed4946c6-03a6-4a05-bde4-43f2703e9f16",
   "metadata": {},
   "source": [
    "En un TAD podemos distinguir dos capas, la estructura interna donde realmente se almacenan los datos y la interfaz que expone hacia afuera, hacia el usuario del TAD, las operaciones que se pueden realizar con esos datos.\n",
    "\n",
    "Por ejemplo son TAD las listas, conjuntos y grafos. Se puede interactuar con estos TAD a través de un conjunto de operaciones definidas para cada uno. En un conjunto podemos chequear si un elemento pertenece al mismo, o agregar o sacar elementos. A una lista le podemos solicitar que nos pase el siguiente elemento, pero no deberíamos tener acceso a la estructura interna del TAD, es decir a la estructura de datos que sirve como contenedor para almacenarlos, y mucho menos a manipular esa estructura contenedor usando otras operaciones distintas de las que están definidas en el TAD."
   ]
  },
  {
   "cell_type": "markdown",
   "id": "859afcc8-3189-4b0e-af88-7a7e40030de4",
   "metadata": {},
   "source": [
    "Las principales características de un TAD son:\n",
    "\n",
    "Abstracción\n",
    ": En un TAD, la abstracción implica definir un conjunto de operaciones que pueden realizarse sobre un tipo de dato, sin revelar cómo se implementan estas operaciones internamente.\n",
    "\n",
    "Ocultamiento\n",
    ": Es el mecanismo que permite ocultar los detalles de la implementación, encapsulando los datos y las operaciones en una única estructura y exponiendo solo una interfaz bien definida.\n",
    "\n",
    "Es decir la **abstracción** se logra mediante el **ocultamiento**.\n",
    "\n",
    "Interfaz\n",
    ": Es la parte visible del TAD, que define como se puede interactuar con él.\n",
    "\n",
    "Comportamiento\n",
    ": Es el conjunto de operaciones que se puede realizar en un TAD.\n",
    "\n",
    "Es decir el **comportamiento** de un TAD se define a través de su **interfaz**\n",
    "\n",
    "Invariante de Representación\n",
    ": Es una condición lógica que siempre debe cumplirse para cualquier estado válido del TAD. Es como una regla interna que garantiza la integridad y coherencia de la estructura de datos. \n",
    "\n",
    "Por ejemplo en una lista de elementos todos los elementos tienen un sucesor y un predecesor salvo el primero y el último de la lista. El primero sólo tiene sucesor y el último sólo tiene predecesor. **Si no se cumple el invariante, entonces el TAD está _\"roto\"_**. Volviendo al ejemplo de la lista, si por algun motivo algún elemento intermedio pierde la referencia a su sucesor la lista queda inutilizable."
   ]
  },
  {
   "cell_type": "markdown",
   "id": "f4f37ec1-52bc-43e2-a1b2-2e4bd3137e3e",
   "metadata": {},
   "source": [
    "GO cuenta con ```struct``` e ```interface``` para definir nuevos tipos abstractos de datos. Las estructuras nos permiten definir un conjunto de valores y un conjunto de operaciones asociadas a esas estructuras. Algunas de las operaciones pueden ser públicas, es decir, formar parte de la interfaz del TAD o ser privadas, para uso interno. Las interfaces permiten que varios tipos de datos que presentan el mismo comportamiento puedan manipularse como un único tipo"
   ]
  },
  {
   "cell_type": "code",
   "execution_count": null,
   "id": "1fda8c0f-b3b2-42c3-8bec-757c4867e715",
   "metadata": {},
   "outputs": [],
   "source": []
  }
 ],
 "metadata": {
  "kernelspec": {
   "display_name": "Go",
   "language": "go",
   "name": "gophernotes"
  },
  "language_info": {
   "codemirror_mode": "",
   "file_extension": ".go",
   "mimetype": "",
   "name": "go",
   "nbconvert_exporter": "",
   "pygments_lexer": "",
   "version": "go1.23.2"
  }
 },
 "nbformat": 4,
 "nbformat_minor": 5
}
