{
 "cells": [
  {
   "cell_type": "markdown",
   "id": "8d6e410c-36c2-4e77-b329-1cae8f49ad3f",
   "metadata": {},
   "source": [
    "# Tablas de Hasing"
   ]
  }
 ],
 "metadata": {
  "kernelspec": {
   "display_name": "Go",
   "language": "go",
   "name": "gophernotes"
  },
  "language_info": {
   "codemirror_mode": "",
   "file_extension": ".go",
   "mimetype": "",
   "name": "go",
   "nbconvert_exporter": "",
   "pygments_lexer": "",
   "version": "go1.23.2"
  }
 },
 "nbformat": 4,
 "nbformat_minor": 5
}
