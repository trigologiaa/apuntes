{
 "cells": [
  {
   "cell_type": "markdown",
   "id": "283bae2b-7077-4b59-a934-37f2bcb6c287",
   "metadata": {},
   "source": [
    "# Listas Enlazadas"
   ]
  },
  {
   "cell_type": "code",
   "execution_count": null,
   "id": "8ca1c9a6-44fd-4f79-b810-ca0061210f56",
   "metadata": {},
   "outputs": [],
   "source": []
  }
 ],
 "metadata": {
  "kernelspec": {
   "display_name": "Go",
   "language": "go",
   "name": "gophernotes"
  },
  "language_info": {
   "codemirror_mode": "",
   "file_extension": ".go",
   "mimetype": "",
   "name": "go",
   "nbconvert_exporter": "",
   "pygments_lexer": "",
   "version": "go1.23.2"
  }
 },
 "nbformat": 4,
 "nbformat_minor": 5
}
