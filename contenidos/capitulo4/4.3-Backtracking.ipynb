{
 "cells": [
  {
   "cell_type": "markdown",
   "id": "8c615e45-34ad-4514-8e1f-8675478ff3d4",
   "metadata": {},
   "source": [
    "# Backtracking"
   ]
  }
 ],
 "metadata": {
  "kernelspec": {
   "display_name": "Go",
   "language": "go",
   "name": "gophernotes"
  },
  "language_info": {
   "codemirror_mode": "",
   "file_extension": ".go",
   "mimetype": "",
   "name": "go",
   "nbconvert_exporter": "",
   "pygments_lexer": "",
   "version": "go1.23.2"
  }
 },
 "nbformat": 4,
 "nbformat_minor": 5
}
