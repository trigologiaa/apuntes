{
 "cells": [
  {
   "cell_type": "markdown",
   "id": "c32b8090-9859-43e5-81f7-20843fab98f8",
   "metadata": {},
   "source": [
    "# Algoritmos Ávidos"
   ]
  }
 ],
 "metadata": {
  "kernelspec": {
   "display_name": "Go",
   "language": "go",
   "name": "gophernotes"
  },
  "language_info": {
   "codemirror_mode": "",
   "file_extension": ".go",
   "mimetype": "",
   "name": "go",
   "nbconvert_exporter": "",
   "pygments_lexer": "",
   "version": "go1.23.2"
  }
 },
 "nbformat": 4,
 "nbformat_minor": 5
}
