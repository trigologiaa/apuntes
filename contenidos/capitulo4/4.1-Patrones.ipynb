{
 "cells": [
  {
   "cell_type": "markdown",
   "id": "66e1bbe9-fa6b-4798-9683-2509a1f44752",
   "metadata": {},
   "source": [
    "# Patrones de Diseño"
   ]
  }
 ],
 "metadata": {
  "kernelspec": {
   "display_name": "Go",
   "language": "go",
   "name": "gophernotes"
  },
  "language_info": {
   "codemirror_mode": "",
   "file_extension": ".go",
   "mimetype": "",
   "name": "go",
   "nbconvert_exporter": "",
   "pygments_lexer": "",
   "version": "go1.23.2"
  }
 },
 "nbformat": 4,
 "nbformat_minor": 5
}
