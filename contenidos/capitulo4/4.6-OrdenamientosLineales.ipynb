{
 "cells": [
  {
   "cell_type": "markdown",
   "id": "8014fd63-c77d-4029-9296-e74b47147e2b",
   "metadata": {},
   "source": [
    "# Ordenamientos en Tiempo Lineal"
   ]
  }
 ],
 "metadata": {
  "kernelspec": {
   "display_name": "Go",
   "language": "go",
   "name": "gophernotes"
  },
  "language_info": {
   "codemirror_mode": "",
   "file_extension": ".go",
   "mimetype": "",
   "name": "go",
   "nbconvert_exporter": "",
   "pygments_lexer": "",
   "version": "go1.23.2"
  }
 },
 "nbformat": 4,
 "nbformat_minor": 5
}
